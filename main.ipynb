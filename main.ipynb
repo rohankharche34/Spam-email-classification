{
  "cells": [
    {
      "cell_type": "markdown",
      "metadata": {
        "id": "rKSRWbl9bmYS"
      },
      "source": [
        "Importing Libraries"
      ]
    },
    {
      "cell_type": "code",
      "execution_count": 1,
      "metadata": {
        "id": "rALI06-oHusw"
      },
      "outputs": [],
      "source": [
        "import numpy as np\n",
        "import pandas as pd\n",
        "import matplotlib.pyplot as plt\n",
        "import seaborn as sns\n",
        "from sklearn.model_selection import train_test_split\n",
        "from sklearn.feature_extraction.text import TfidfVectorizer\n",
        "from sklearn.metrics import accuracy_score\n",
        "from sklearn.metrics import classification_report\n",
        "from sklearn.naive_bayes import MultinomialNB\n",
        "from sklearn.model_selection import StratifiedKFold, cross_val_score\n",
        "from sklearn.svm import LinearSVC\n",
        "from sklearn.linear_model import LogisticRegression\n",
        "from sklearn.ensemble import VotingClassifier\n",
        "from sklearn.pipeline import Pipeline\n",
        "import time"
      ]
    },
    {
      "cell_type": "markdown",
      "metadata": {
        "id": "YyKe9o2ONeFv"
      },
      "source": [
        "Load the Dataset"
      ]
    },
    {
      "cell_type": "code",
      "execution_count": 2,
      "metadata": {
        "colab": {
          "base_uri": "https://localhost:8080/"
        },
        "id": "CpStHH8KNcYB",
        "outputId": "94de5532-25b3-4441-cd2c-4b44f776622e"
      },
      "outputs": [],
      "source": [
        "mail_data = pd.read_csv(\"data/combined_data.csv\")"
      ]
    },
    {
      "cell_type": "code",
      "execution_count": 3,
      "metadata": {
        "colab": {
          "base_uri": "https://localhost:8080/",
          "height": 206
        },
        "id": "pdn-7VE2NxsZ",
        "outputId": "483e7d94-1fb4-4dd2-da27-4a77a7f18abf"
      },
      "outputs": [
        {
          "data": {
            "text/html": [
              "<div>\n",
              "<style scoped>\n",
              "    .dataframe tbody tr th:only-of-type {\n",
              "        vertical-align: middle;\n",
              "    }\n",
              "\n",
              "    .dataframe tbody tr th {\n",
              "        vertical-align: top;\n",
              "    }\n",
              "\n",
              "    .dataframe thead th {\n",
              "        text-align: right;\n",
              "    }\n",
              "</style>\n",
              "<table border=\"1\" class=\"dataframe\">\n",
              "  <thead>\n",
              "    <tr style=\"text-align: right;\">\n",
              "      <th></th>\n",
              "      <th>label</th>\n",
              "      <th>text</th>\n",
              "    </tr>\n",
              "  </thead>\n",
              "  <tbody>\n",
              "    <tr>\n",
              "      <th>0</th>\n",
              "      <td>1</td>\n",
              "      <td>ounce feather bowl hummingbird opec moment ala...</td>\n",
              "    </tr>\n",
              "    <tr>\n",
              "      <th>1</th>\n",
              "      <td>1</td>\n",
              "      <td>wulvob get your medircations online qnb ikud v...</td>\n",
              "    </tr>\n",
              "    <tr>\n",
              "      <th>2</th>\n",
              "      <td>0</td>\n",
              "      <td>computer connection from cnn com wednesday es...</td>\n",
              "    </tr>\n",
              "    <tr>\n",
              "      <th>3</th>\n",
              "      <td>1</td>\n",
              "      <td>university degree obtain a prosperous future m...</td>\n",
              "    </tr>\n",
              "    <tr>\n",
              "      <th>4</th>\n",
              "      <td>0</td>\n",
              "      <td>thanks for all your answers guys i know i shou...</td>\n",
              "    </tr>\n",
              "  </tbody>\n",
              "</table>\n",
              "</div>"
            ],
            "text/plain": [
              "   label                                               text\n",
              "0      1  ounce feather bowl hummingbird opec moment ala...\n",
              "1      1  wulvob get your medircations online qnb ikud v...\n",
              "2      0   computer connection from cnn com wednesday es...\n",
              "3      1  university degree obtain a prosperous future m...\n",
              "4      0  thanks for all your answers guys i know i shou..."
            ]
          },
          "execution_count": 3,
          "metadata": {},
          "output_type": "execute_result"
        }
      ],
      "source": [
        "mail_data.head()"
      ]
    },
    {
      "cell_type": "code",
      "execution_count": 4,
      "metadata": {
        "colab": {
          "base_uri": "https://localhost:8080/",
          "height": 206
        },
        "id": "b4LLWcLfbmYf",
        "outputId": "9ff77963-c6c4-4d93-b273-f851f7890484"
      },
      "outputs": [
        {
          "data": {
            "text/html": [
              "<div>\n",
              "<style scoped>\n",
              "    .dataframe tbody tr th:only-of-type {\n",
              "        vertical-align: middle;\n",
              "    }\n",
              "\n",
              "    .dataframe tbody tr th {\n",
              "        vertical-align: top;\n",
              "    }\n",
              "\n",
              "    .dataframe thead th {\n",
              "        text-align: right;\n",
              "    }\n",
              "</style>\n",
              "<table border=\"1\" class=\"dataframe\">\n",
              "  <thead>\n",
              "    <tr style=\"text-align: right;\">\n",
              "      <th></th>\n",
              "      <th>label</th>\n",
              "      <th>text</th>\n",
              "    </tr>\n",
              "  </thead>\n",
              "  <tbody>\n",
              "    <tr>\n",
              "      <th>15868</th>\n",
              "      <td>1</td>\n",
              "      <td>prozac\\nvlagra\\nphentermlne\\nsoma\\namblen\\nval...</td>\n",
              "    </tr>\n",
              "    <tr>\n",
              "      <th>76344</th>\n",
              "      <td>1</td>\n",
              "      <td>remember across turn stay using pie \" usedto n...</td>\n",
              "    </tr>\n",
              "    <tr>\n",
              "      <th>54148</th>\n",
              "      <td>1</td>\n",
              "      <td>hi my name is julie . i am from texas . one da...</td>\n",
              "    </tr>\n",
              "    <tr>\n",
              "      <th>5472</th>\n",
              "      <td>1</td>\n",
              "      <td>guggenheim roombellamy darn adolphcoachwork\\nb...</td>\n",
              "    </tr>\n",
              "    <tr>\n",
              "      <th>40452</th>\n",
              "      <td>1</td>\n",
              "      <td>chen said quietly is you may wear it was a wee...</td>\n",
              "    </tr>\n",
              "  </tbody>\n",
              "</table>\n",
              "</div>"
            ],
            "text/plain": [
              "       label                                               text\n",
              "15868      1  prozac\\nvlagra\\nphentermlne\\nsoma\\namblen\\nval...\n",
              "76344      1  remember across turn stay using pie \" usedto n...\n",
              "54148      1  hi my name is julie . i am from texas . one da...\n",
              "5472       1  guggenheim roombellamy darn adolphcoachwork\\nb...\n",
              "40452      1  chen said quietly is you may wear it was a wee..."
            ]
          },
          "execution_count": 4,
          "metadata": {},
          "output_type": "execute_result"
        }
      ],
      "source": [
        "mail_data.sample(5)"
      ]
    },
    {
      "cell_type": "markdown",
      "metadata": {
        "id": "9lKvdc56bmYg"
      },
      "source": [
        "Remove Null Values"
      ]
    },
    {
      "cell_type": "code",
      "execution_count": 5,
      "metadata": {
        "id": "2nWPt-iIbmYg"
      },
      "outputs": [],
      "source": [
        "mail_data = mail_data.rename(columns={'text': 'Message'})"
      ]
    },
    {
      "cell_type": "code",
      "execution_count": 6,
      "metadata": {
        "colab": {
          "base_uri": "https://localhost:8080/"
        },
        "id": "_4wEQ4mzbmYh",
        "outputId": "4d5edc0a-cd92-4463-caa2-c956697ce679"
      },
      "outputs": [
        {
          "data": {
            "text/plain": [
              "0"
            ]
          },
          "execution_count": 6,
          "metadata": {},
          "output_type": "execute_result"
        }
      ],
      "source": [
        "mail_data['Message'].isnull().sum()"
      ]
    },
    {
      "cell_type": "code",
      "execution_count": 7,
      "metadata": {
        "id": "yhakjIE1N011"
      },
      "outputs": [],
      "source": [
        "mail_data.dropna(axis = 0, inplace = True)"
      ]
    },
    {
      "cell_type": "code",
      "execution_count": 8,
      "metadata": {
        "colab": {
          "base_uri": "https://localhost:8080/"
        },
        "id": "IbK82N2gOdar",
        "outputId": "a0bdb9db-189d-4326-a91e-f6a25a836259"
      },
      "outputs": [
        {
          "data": {
            "text/plain": [
              "(83448, 2)"
            ]
          },
          "execution_count": 8,
          "metadata": {},
          "output_type": "execute_result"
        }
      ],
      "source": [
        "mail_data.shape"
      ]
    },
    {
      "cell_type": "code",
      "execution_count": 9,
      "metadata": {
        "id": "C1ldOQZKbmYg"
      },
      "outputs": [],
      "source": [
        "X = mail_data['Message']\n",
        "y = mail_data['label']"
      ]
    },
    {
      "cell_type": "code",
      "execution_count": 10,
      "metadata": {
        "colab": {
          "base_uri": "https://localhost:8080/"
        },
        "id": "QnQeUBGtQPP7",
        "outputId": "f0375965-9dc9-449e-8da5-38691c15395e"
      },
      "outputs": [
        {
          "data": {
            "text/plain": [
              "0        ounce feather bowl hummingbird opec moment ala...\n",
              "1        wulvob get your medircations online qnb ikud v...\n",
              "2         computer connection from cnn com wednesday es...\n",
              "3        university degree obtain a prosperous future m...\n",
              "4        thanks for all your answers guys i know i shou...\n",
              "                               ...                        \n",
              "83443    hi given a date how do i get the last date of ...\n",
              "83444    now you can order software on cd or download i...\n",
              "83445    dear valued member canadianpharmacy provides a...\n",
              "83446    subscribe change profile contact us long term ...\n",
              "83447    get the most out of life ! viagra has helped m...\n",
              "Name: Message, Length: 83448, dtype: object"
            ]
          },
          "execution_count": 10,
          "metadata": {},
          "output_type": "execute_result"
        }
      ],
      "source": [
        "X"
      ]
    },
    {
      "cell_type": "code",
      "execution_count": 11,
      "metadata": {
        "colab": {
          "base_uri": "https://localhost:8080/"
        },
        "id": "cuWDNy5KQQjY",
        "outputId": "dec1d232-1b20-49c0-ec39-076b573c7fc2"
      },
      "outputs": [
        {
          "data": {
            "text/plain": [
              "0        1\n",
              "1        1\n",
              "2        0\n",
              "3        1\n",
              "4        0\n",
              "        ..\n",
              "83443    0\n",
              "83444    1\n",
              "83445    1\n",
              "83446    0\n",
              "83447    1\n",
              "Name: label, Length: 83448, dtype: int64"
            ]
          },
          "execution_count": 11,
          "metadata": {},
          "output_type": "execute_result"
        }
      ],
      "source": [
        "y"
      ]
    },
    {
      "cell_type": "code",
      "execution_count": 12,
      "metadata": {
        "id": "4yKssjSUiDD8"
      },
      "outputs": [],
      "source": [
        "X = np.array(X) \n",
        "y = np.array(y)  "
      ]
    },
    {
      "cell_type": "markdown",
      "metadata": {
        "id": "jvHyqdH8QZPH"
      },
      "source": [
        "Splitting the data into training data & test data"
      ]
    },
    {
      "cell_type": "code",
      "execution_count": 13,
      "metadata": {
        "id": "RO2GmbSNQSQH"
      },
      "outputs": [],
      "source": [
        "X_train, X_test, Y_train, Y_test = train_test_split(X, y, test_size = 0.2, random_state = 0,stratify=y)"
      ]
    },
    {
      "cell_type": "markdown",
      "metadata": {
        "id": "q86FvELbU_SV"
      },
      "source": [
        "Vectorization + Models + Voting Pipeline"
      ]
    },
    {
      "cell_type": "code",
      "execution_count": null,
      "metadata": {
        "colab": {
          "base_uri": "https://localhost:8080/"
        },
        "id": "dckKAD0_bmYk",
        "outputId": "27301f3c-72b8-40b2-ccf8-1a6e2e8bfd36"
      },
      "outputs": [
        {
          "name": "stdout",
          "output_type": "stream",
          "text": [
            "Hard Voting CV (on training data):\n",
            "Fold 1 — Accuracy: 0.9688, Time: 26.01s\n",
            "Fold 2 — Accuracy: 0.9723, Time: 34.08s\n",
            "Fold 3 — Accuracy: 0.9704, Time: 25.15s\n",
            "Fold 4 — Accuracy: 0.9729, Time: 33.39s\n",
            "Fold 5 — Accuracy: 0.9730, Time: 34.07s\n",
            "\n",
            "Soft Voting CV (on training data):\n",
            "Fold 1 — Accuracy: 0.9754, Time: 36.81s\n",
            "Fold 2 — Accuracy: 0.9772, Time: 26.84s\n",
            "Fold 3 — Accuracy: 0.9743, Time: 27.85s\n",
            "Fold 4 — Accuracy: 0.9782, Time: 36.18s\n",
            "Fold 5 — Accuracy: 0.9786, Time: 29.33s\n"
          ]
        }
      ],
      "source": [
        "tfidf = TfidfVectorizer(max_features=5000)\n",
        "\n",
        "# Base models\n",
        "svc = LinearSVC()\n",
        "nb = MultinomialNB()\n",
        "log_reg = LogisticRegression(max_iter=500)\n",
        "\n",
        "# Voting Classifiers\n",
        "hard_voting = VotingClassifier(estimators=[\n",
        "    ('svc', svc),\n",
        "    ('nb', nb)\n",
        "], voting='hard')\n",
        "\n",
        "soft_voting = VotingClassifier(estimators=[\n",
        "    ('lr', log_reg),\n",
        "    ('nb', nb)\n",
        "], voting='soft')\n",
        "\n",
        "# Pipelines\n",
        "hard_pipeline = Pipeline([\n",
        "    ('tfidf', tfidf),\n",
        "    ('voting', hard_voting)\n",
        "])\n",
        "\n",
        "soft_pipeline = Pipeline([\n",
        "    ('tfidf', tfidf),\n",
        "    ('voting', soft_voting)\n",
        "])\n",
        "\n",
        "# Cross-validation on training set only\n",
        "cv = StratifiedKFold(n_splits=8, shuffle=True, random_state=42)\n",
        "\n",
        "print(\"Hard Voting CV (on training data):\")\n",
        "for fold, (train_idx, val_idx) in enumerate(cv.split(X_train, Y_train)):\n",
        "    X_tr, X_val = X_train[train_idx], X_train[val_idx]\n",
        "    y_tr, y_val = Y_train[train_idx], Y_train[val_idx]\n",
        "    start = time.time()\n",
        "    hard_pipeline.fit(X_tr, y_tr)\n",
        "    score = hard_pipeline.score(X_val, y_val)\n",
        "    print(f\"Fold {fold+1} — Accuracy: {score:.4f}, Time: {time.time() - start:.2f}s\")\n",
        "\n",
        "print(\"\\nSoft Voting CV (on training data):\")\n",
        "for fold, (train_idx, val_idx) in enumerate(cv.split(X_train, Y_train)):\n",
        "    X_tr, X_val = X_train[train_idx], X_train[val_idx]\n",
        "    y_tr, y_val = Y_train[train_idx], Y_train[val_idx]\n",
        "    start = time.time()\n",
        "    soft_pipeline.fit(X_tr, y_tr)\n",
        "    score = soft_pipeline.score(X_val, y_val)\n",
        "    print(f\"Fold {fold+1} — Accuracy: {score:.4f}, Time: {time.time() - start:.2f}s\")"
      ]
    },
    {
      "cell_type": "markdown",
      "metadata": {
        "id": "wZ01fa8dVeL5"
      },
      "source": [
        "Accuracy Score and Classification Report"
      ]
    },
    {
      "cell_type": "code",
      "execution_count": 15,
      "metadata": {
        "colab": {
          "base_uri": "https://localhost:8080/"
        },
        "id": "ExiF2kKxVYtC",
        "outputId": "809580cb-0f05-4021-b751-f8ad4df7c325"
      },
      "outputs": [
        {
          "name": "stdout",
          "output_type": "stream",
          "text": [
            "Hard Voting:\n",
            "\n",
            "Final Accuracy on Test Set: 0.9718993409227082\n",
            "Classification Report:               precision    recall  f1-score   support\n",
            "\n",
            "           0       0.95      0.99      0.97      7908\n",
            "           1       0.99      0.96      0.97      8782\n",
            "\n",
            "    accuracy                           0.97     16690\n",
            "   macro avg       0.97      0.97      0.97     16690\n",
            "weighted avg       0.97      0.97      0.97     16690\n",
            "\n",
            "\n",
            "Soft Voting:\n",
            "Final Soft Voting Accuracy on Test Set: 0.9772318753744758\n",
            "Classification Report:               precision    recall  f1-score   support\n",
            "\n",
            "           0       0.98      0.97      0.98      7908\n",
            "           1       0.98      0.98      0.98      8782\n",
            "\n",
            "    accuracy                           0.98     16690\n",
            "   macro avg       0.98      0.98      0.98     16690\n",
            "weighted avg       0.98      0.98      0.98     16690\n",
            "\n"
          ]
        }
      ],
      "source": [
        "# Final test set evaluation\n",
        "hard_pipeline.fit(X_train, Y_train)\n",
        "hard_y_pred = hard_pipeline.predict(X_test)\n",
        "print(\"Hard Voting:\")\n",
        "print(\"\\nFinal Accuracy on Test Set:\", hard_pipeline.score(X_test, Y_test))\n",
        "print(\"Classification Report:\", classification_report(Y_test, hard_y_pred))\n",
        "\n",
        "soft_pipeline.fit(X_train, Y_train)\n",
        "soft_y_pred = soft_pipeline.predict(X_test)\n",
        "print(\"\\nSoft Voting:\")\n",
        "print(\"Final Soft Voting Accuracy on Test Set:\", soft_pipeline.score(X_test, Y_test))\n",
        "print(\"Classification Report:\", classification_report(Y_test, soft_y_pred))"
      ]
    },
    {
      "cell_type": "markdown",
      "metadata": {
        "id": "bXdOKxYAXaHC"
      },
      "source": [
        "Predictive System"
      ]
    },
    {
      "cell_type": "code",
      "execution_count": null,
      "metadata": {
        "colab": {
          "base_uri": "https://localhost:8080/"
        },
        "id": "h60z1__mWql6",
        "outputId": "ac11b783-6aa0-42cb-afdb-b687e8058c0b"
      },
      "outputs": [
        {
          "name": "stdout",
          "output_type": "stream",
          "text": [
            "I've been looking for the right words to thank you for this breather.You have been wonderful and a blessing at all times.  --> Spam mail\n"
          ]
        }
      ],
      "source": [
        "input_mail = [\"Free entry in mall. Do it today!!Win cash and much more.\"]\n",
        "input_prediction = soft_pipeline.predict(input_mail)\n",
        "\n",
        "# Output\n",
        "if input_prediction[0] == 0:\n",
        "    print(f\"{input_mail[0]}  --> Ham mail\")\n",
        "else:\n",
        "    print(f\"{input_mail[0]}  --> Spam mail\")"
      ]
    }
  ],
  "metadata": {
    "colab": {
      "name": "Project 17. Spam Mail Prediction using Machine Learning.ipynb",
      "provenance": []
    },
    "kernelspec": {
      "display_name": "ml_ud",
      "language": "python",
      "name": "python3"
    },
    "language_info": {
      "codemirror_mode": {
        "name": "ipython",
        "version": 3
      },
      "file_extension": ".py",
      "mimetype": "text/x-python",
      "name": "python",
      "nbconvert_exporter": "python",
      "pygments_lexer": "ipython3",
      "version": "3.9.21"
    }
  },
  "nbformat": 4,
  "nbformat_minor": 0
}
